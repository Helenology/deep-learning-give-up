{
 "cells": [
  {
   "cell_type": "code",
   "execution_count": 3,
   "metadata": {},
   "outputs": [
    {
     "name": "stdout",
     "output_type": "stream",
     "text": [
      "(60000, 28, 28)\n"
     ]
    }
   ],
   "source": [
    "from keras.datasets import mnist\n",
    "(X0, Y0), (X1, Y1) = mnist.load_data()\n",
    "print(X0.shape)"
   ]
  },
  {
   "cell_type": "code",
   "execution_count": 4,
   "metadata": {},
   "outputs": [
    {
     "data": {
      "text/plain": [
       "<Figure size 640x480 with 0 Axes>"
      ]
     },
     "metadata": {},
     "output_type": "display_data"
    },
    {
     "data": {
      "text/plain": [
       "<Figure size 640x480 with 10 Axes>"
      ]
     },
     "metadata": {},
     "output_type": "display_data"
    }
   ],
   "source": [
    "from matplotlib import pyplot as plt\n",
    "plt.figure()\n",
    "fig, ax = plt.subplots(2, 5)\n",
    "ax = ax.flatten()\n",
    "for i in range(10):\n",
    "    Im = X0[Y0 == i][0]\n",
    "    ax[i].imshow(Im)\n",
    "plt.show()"
   ]
  },
  {
   "cell_type": "code",
   "execution_count": 5,
   "metadata": {},
   "outputs": [
    {
     "name": "stdout",
     "output_type": "stream",
     "text": [
      "[60000, 10000]\n",
      "[[0. 0. 0. ... 1. 0. 0.]\n",
      " [0. 0. 1. ... 0. 0. 0.]\n",
      " [0. 1. 0. ... 0. 0. 0.]\n",
      " ...\n",
      " [0. 0. 0. ... 0. 0. 0.]\n",
      " [0. 0. 0. ... 0. 0. 0.]\n",
      " [0. 0. 0. ... 0. 0. 0.]]\n"
     ]
    }
   ],
   "source": [
    "# 数据预处理\n",
    "from keras.utils import np_utils\n",
    "N0 = X0.shape[0]\n",
    "N1 = X1.shape[0]\n",
    "print([N0, N1])\n",
    "X0 = X0.reshape(N0, 28, 28, 1) / 255\n",
    "X1 = X1.reshape(N1, 28, 28, 1) / 255\n",
    "YY0 = np_utils.to_categorical(Y0) # 变为 one_hot 形式\n",
    "YY1 = np_utils.to_categorical(Y1)\n",
    "print(YY1)"
   ]
  },
  {
   "cell_type": "code",
   "execution_count": 6,
   "metadata": {},
   "outputs": [
    {
     "name": "stdout",
     "output_type": "stream",
     "text": [
      "Model: \"functional_3\"\n",
      "_________________________________________________________________\n",
      "Layer (type)                 Output Shape              Param #   \n",
      "=================================================================\n",
      "input_2 (InputLayer)         [(None, 28, 28, 1)]       0         \n",
      "_________________________________________________________________\n",
      "conv2d_2 (Conv2D)            (None, 28, 28, 6)         156       \n",
      "_________________________________________________________________\n",
      "max_pooling2d_2 (MaxPooling2 (None, 14, 14, 6)         0         \n",
      "_________________________________________________________________\n",
      "conv2d_3 (Conv2D)            (None, 10, 10, 16)        2416      \n",
      "_________________________________________________________________\n",
      "max_pooling2d_3 (MaxPooling2 (None, 5, 5, 16)          0         \n",
      "_________________________________________________________________\n",
      "flatten_1 (Flatten)          (None, 400)               0         \n",
      "_________________________________________________________________\n",
      "dense_3 (Dense)              (None, 120)               48120     \n",
      "_________________________________________________________________\n",
      "dense_4 (Dense)              (None, 84)                10164     \n",
      "_________________________________________________________________\n",
      "dense_5 (Dense)              (None, 10)                850       \n",
      "=================================================================\n",
      "Total params: 61,706\n",
      "Trainable params: 61,706\n",
      "Non-trainable params: 0\n",
      "_________________________________________________________________\n"
     ]
    }
   ],
   "source": [
    "# LeNet-5 模型搭建\n",
    "from keras.layers import Conv2D, Dense, Flatten, Input, MaxPooling2D\n",
    "from keras import Model\n",
    "\n",
    "# 输入层\n",
    "input_layer = Input([28, 28, 1])\n",
    "x = input_layer\n",
    "# 卷积层，6个大小为5*5的卷积核进行padding=same的操作，激活函数为ReLU\n",
    "x = Conv2D(6, [5, 5], padding=\"same\", activation=\"relu\")(x)\n",
    "# 池化层\n",
    "x = MaxPooling2D(pool_size=[2, 2], strides=[2, 2])(x)\n",
    "# 卷积层\n",
    "x = Conv2D(16, [5, 5], padding=\"valid\", activation=\"relu\")(x)\n",
    "# 池化层\n",
    "x = MaxPooling2D(pool_size=[2, 2], strides=[2, 2])(x)\n",
    "# 拉直\n",
    "x = Flatten()(x)\n",
    "# 全连接层\n",
    "x = Dense(120, activation=\"relu\")(x)\n",
    "x = Dense(84, activation=\"relu\")(x)\n",
    "x = Dense(10, activation=\"softmax\")(x)\n",
    "# 输出层\n",
    "output_layer = x\n",
    "model = Model(input_layer, output_layer)\n",
    "model.summary()"
   ]
  },
  {
   "cell_type": "code",
   "execution_count": 7,
   "metadata": {},
   "outputs": [
    {
     "name": "stdout",
     "output_type": "stream",
     "text": [
      "Epoch 1/10\n",
      "300/300 [==============================] - 23s 77ms/step - loss: 0.3729 - accuracy: 0.8928 - val_loss: 0.0000e+00 - val_accuracy: 0.0000e+00\n",
      "Epoch 2/10\n",
      "300/300 [==============================] - 26s 85ms/step - loss: 0.1049 - accuracy: 0.9690 - val_loss: 0.0000e+00 - val_accuracy: 0.0000e+00\n",
      "Epoch 3/10\n",
      "300/300 [==============================] - 26s 87ms/step - loss: 0.0692 - accuracy: 0.9786 - val_loss: 0.0000e+00 - val_accuracy: 0.0000e+00\n",
      "Epoch 4/10\n",
      "300/300 [==============================] - 27s 89ms/step - loss: 0.0549 - accuracy: 0.9826 - val_loss: 0.0000e+00 - val_accuracy: 0.0000e+00\n",
      "Epoch 5/10\n",
      "300/300 [==============================] - 27s 90ms/step - loss: 0.0467 - accuracy: 0.9856 - val_loss: 0.0000e+00 - val_accuracy: 0.0000e+00\n",
      "Epoch 6/10\n",
      "300/300 [==============================] - 27s 90ms/step - loss: 0.0391 - accuracy: 0.9877 - val_loss: 0.0000e+00 - val_accuracy: 0.0000e+00\n",
      "Epoch 7/10\n",
      "300/300 [==============================] - 27s 90ms/step - loss: 0.0340 - accuracy: 0.9887 - val_loss: 0.0000e+00 - val_accuracy: 0.0000e+00\n",
      "Epoch 8/10\n",
      "300/300 [==============================] - 27s 89ms/step - loss: 0.0297 - accuracy: 0.9902 - val_loss: 0.0000e+00 - val_accuracy: 0.0000e+00\n",
      "Epoch 9/10\n",
      "300/300 [==============================] - 27s 91ms/step - loss: 0.0278 - accuracy: 0.9908 - val_loss: 0.0000e+00 - val_accuracy: 0.0000e+00\n",
      "Epoch 10/10\n",
      "300/300 [==============================] - 27s 91ms/step - loss: 0.0228 - accuracy: 0.9926 - val_loss: 0.0000e+00 - val_accuracy: 0.0000e+00\n"
     ]
    },
    {
     "data": {
      "text/plain": [
       "<tensorflow.python.keras.callbacks.History at 0x7fccc5886790>"
      ]
     },
     "execution_count": 7,
     "metadata": {},
     "output_type": "execute_result"
    }
   ],
   "source": [
    "# LetNet-5 编译运行\n",
    "model.compile(loss=\"categorical_crossentropy\", optimizer=\"adam\", metrics=['accuracy'])\n",
    "model.fit(X0, YY0, epochs=10, batch_size=200, validation_data=[X1, YY1])"
   ]
  },
  {
   "cell_type": "code",
   "execution_count": null,
   "metadata": {},
   "outputs": [],
   "source": []
  }
 ],
 "metadata": {
  "kernelspec": {
   "display_name": "Python 3",
   "language": "python",
   "name": "python3"
  },
  "language_info": {
   "codemirror_mode": {
    "name": "ipython",
    "version": 3
   },
   "file_extension": ".py",
   "mimetype": "text/x-python",
   "name": "python",
   "nbconvert_exporter": "python",
   "pygments_lexer": "ipython3",
   "version": "3.7.4"
  }
 },
 "nbformat": 4,
 "nbformat_minor": 2
}
