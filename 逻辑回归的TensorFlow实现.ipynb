{
 "cells": [
  {
   "cell_type": "code",
   "execution_count": 3,
   "metadata": {},
   "outputs": [
    {
     "name": "stdout",
     "output_type": "stream",
     "text": [
      "Extracting data/MNIST/train-images-idx3-ubyte.gz\n",
      "Extracting data/MNIST/train-labels-idx1-ubyte.gz\n",
      "Extracting data/MNIST/t10k-images-idx3-ubyte.gz\n",
      "Extracting data/MNIST/t10k-labels-idx1-ubyte.gz\n"
     ]
    }
   ],
   "source": [
    "# 读取 MNIST 数据集\n",
    "from tensorflow.examples.tutorials.mnist import input_data\n",
    "# one_hot=False表示因变量将用一个标量表示，而非one_hot编码形式\n",
    "data = input_data.read_data_sets(\"data/MNIST/\", one_hot=False) "
   ]
  },
  {
   "cell_type": "code",
   "execution_count": 5,
   "metadata": {},
   "outputs": [
    {
     "name": "stdout",
     "output_type": "stream",
     "text": [
      "(55000, 784)\n"
     ]
    }
   ],
   "source": [
    "# 准备训练数据与测试数据\n",
    "X0 = data.train.images\n",
    "Y0 = data.train.labels\n",
    "X1 = data.validation.images\n",
    "Y1 = data.validation.labels\n",
    "print(X0.shape) # 将原始的像素矩阵直接拉直"
   ]
  },
  {
   "cell_type": "code",
   "execution_count": 9,
   "metadata": {},
   "outputs": [
    {
     "data": {
      "text/plain": [
       "<Figure size 432x288 with 0 Axes>"
      ]
     },
     "metadata": {},
     "output_type": "display_data"
    },
    {
     "data": {
      "image/png": "[encoded data removed]",
      "text/plain": [
       "<Figure size 432x288 with 10 Axes>"
      ]
     },
     "metadata": {
      "needs_background": "light"
     },
     "output_type": "display_data"
    }
   ],
   "source": [
    "# 手写数字展示\n",
    "from matplotlib import pyplot as plt\n",
    "plt.figure()\n",
    "fig, ax = plt.subplots(2, 5)\n",
    "ax = ax.flatten()\n",
    "for i in range(10):\n",
    "    Im = X0[Y0==i][0].reshape(28, 28)\n",
    "    ax[i].imshow(Im)\n",
    "plt.show()"
   ]
  },
  {
   "cell_type": "code",
   "execution_count": 10,
   "metadata": {},
   "outputs": [
    {
     "name": "stderr",
     "output_type": "stream",
     "text": [
      "Using TensorFlow backend.\n"
     ]
    },
    {
     "data": {
      "text/plain": [
       "array([[0., 0., 0., ..., 0., 0., 0.],\n",
       "       [1., 0., 0., ..., 0., 0., 0.],\n",
       "       [0., 0., 0., ..., 0., 0., 0.],\n",
       "       ...,\n",
       "       [0., 0., 1., ..., 0., 0., 0.],\n",
       "       [0., 1., 0., ..., 0., 0., 0.],\n",
       "       [0., 0., 1., ..., 0., 0., 0.]], dtype=float32)"
      ]
     },
     "execution_count": 10,
     "metadata": {},
     "output_type": "execute_result"
    }
   ],
   "source": [
    "# 使用函数 to_categorical将因变量Y0处理成one-hot编码形式\n",
    "from keras.utils import to_categorical\n",
    "YY0 = to_categorical(Y0)\n",
    "YY1 = to_categorical(Y1)\n",
    "YY1"
   ]
  },
  {
   "cell_type": "code",
   "execution_count": 13,
   "metadata": {},
   "outputs": [
    {
     "name": "stdout",
     "output_type": "stream",
     "text": [
      "Model: \"functional_3\"\n",
      "_________________________________________________________________\n",
      "Layer (type)                 Output Shape              Param #   \n",
      "=================================================================\n",
      "input_3 (InputLayer)         [(None, 784)]             0         \n",
      "_________________________________________________________________\n",
      "dense_2 (Dense)              (None, 10)                7850      \n",
      "_________________________________________________________________\n",
      "activation_1 (Activation)    (None, 10)                0         \n",
      "=================================================================\n",
      "Total params: 7,850\n",
      "Trainable params: 7,850\n",
      "Non-trainable params: 0\n",
      "_________________________________________________________________\n"
     ]
    }
   ],
   "source": [
    "# 逻辑回归的构建\n",
    "from keras.layers import Activation, Dense, Flatten, Input\n",
    "from keras import Model\n",
    "\n",
    "input_shape = (784, )\n",
    "input_layer = Input(input_shape) # 输入层\n",
    "x = input_layer\n",
    "x = Dense(10)(x) # 10 代表 10 分类\n",
    "x = Activation('softmax')(x)\n",
    "output_layer = x\n",
    "model = Model(input_layer, output_layer)\n",
    "\n",
    "# 查看模型\n",
    "model.summary()"
   ]
  },
  {
   "cell_type": "code",
   "execution_count": 16,
   "metadata": {},
   "outputs": [],
   "source": [
    "# 模型编译\n",
    "from keras.optimizers import Adam\n",
    "model.compile(optimizer = Adam(0.01),\n",
    "             loss = 'categorical_crossentropy',\n",
    "             metrics = ['accuracy'])"
   ]
  },
  {
   "cell_type": "code",
   "execution_count": 17,
   "metadata": {},
   "outputs": [
    {
     "name": "stdout",
     "output_type": "stream",
     "text": [
      "Epoch 1/10\n",
      "55/55 [==============================] - 0s 7ms/step - loss: 0.5751 - accuracy: 0.8356 - val_loss: 0.3220 - val_accuracy: 0.9100\n",
      "Epoch 2/10\n",
      "55/55 [==============================] - 0s 4ms/step - loss: 0.3220 - accuracy: 0.9089 - val_loss: 0.2878 - val_accuracy: 0.9190\n",
      "Epoch 3/10\n",
      "55/55 [==============================] - 0s 4ms/step - loss: 0.2940 - accuracy: 0.9187 - val_loss: 0.2814 - val_accuracy: 0.9230\n",
      "Epoch 4/10\n",
      "55/55 [==============================] - 0s 4ms/step - loss: 0.2828 - accuracy: 0.9211 - val_loss: 0.2714 - val_accuracy: 0.9246\n",
      "Epoch 5/10\n",
      "55/55 [==============================] - 0s 4ms/step - loss: 0.2721 - accuracy: 0.9237 - val_loss: 0.2671 - val_accuracy: 0.9260\n",
      "Epoch 6/10\n",
      "55/55 [==============================] - 0s 4ms/step - loss: 0.2662 - accuracy: 0.9256 - val_loss: 0.2635 - val_accuracy: 0.9294\n",
      "Epoch 7/10\n",
      "55/55 [==============================] - 0s 4ms/step - loss: 0.2617 - accuracy: 0.9262 - val_loss: 0.2584 - val_accuracy: 0.9292\n",
      "Epoch 8/10\n",
      "55/55 [==============================] - 0s 4ms/step - loss: 0.2586 - accuracy: 0.9281 - val_loss: 0.2614 - val_accuracy: 0.9280\n",
      "Epoch 9/10\n",
      "55/55 [==============================] - 0s 4ms/step - loss: 0.2555 - accuracy: 0.9291 - val_loss: 0.2609 - val_accuracy: 0.9268\n",
      "Epoch 10/10\n",
      "55/55 [==============================] - 0s 4ms/step - loss: 0.2529 - accuracy: 0.9297 - val_loss: 0.2621 - val_accuracy: 0.9302\n"
     ]
    },
    {
     "data": {
      "text/plain": [
       "<tensorflow.python.keras.callbacks.History at 0x7fe4a68daa10>"
      ]
     },
     "execution_count": 17,
     "metadata": {},
     "output_type": "execute_result"
    }
   ],
   "source": [
    "# 模型拟合\n",
    "model.fit(X0, YY0,\n",
    "         validation_data = (X1, YY1),\n",
    "         batch_size = 1000,\n",
    "         epochs = 10)"
   ]
  },
  {
   "cell_type": "code",
   "execution_count": 18,
   "metadata": {},
   "outputs": [
    {
     "data": {
      "text/plain": [
       "[<tensorflow.python.keras.engine.input_layer.InputLayer at 0x7fe4a6251fd0>,\n",
       " <tensorflow.python.keras.layers.core.Dense at 0x7fe4a5f5ed90>,\n",
       " <tensorflow.python.keras.layers.core.Activation at 0x7fe4a5f937d0>]"
      ]
     },
     "execution_count": 18,
     "metadata": {},
     "output_type": "execute_result"
    }
   ],
   "source": [
    "# 参数估计结果可视化\n",
    "# 1. 查看模型各层\n",
    "model.layers"
   ]
  },
  {
   "cell_type": "code",
   "execution_count": 19,
   "metadata": {},
   "outputs": [
    {
     "data": {
      "text/plain": [
       "[array([[ 0.01859212, -0.04520582, -0.06109782, ...,  0.03038763,\n",
       "         -0.04744271, -0.04567963],\n",
       "        [ 0.04505137,  0.07738698, -0.07712557, ...,  0.07970465,\n",
       "         -0.01804768,  0.06172893],\n",
       "        [-0.00702079, -0.0440008 ,  0.01437684, ...,  0.0735951 ,\n",
       "          0.05370807,  0.05389868],\n",
       "        ...,\n",
       "        [ 0.04756872,  0.07942914, -0.06200272, ...,  0.03674687,\n",
       "          0.07647615, -0.04642488],\n",
       "        [ 0.02468078,  0.08613317,  0.02755796, ...,  0.05764206,\n",
       "          0.0079499 , -0.01912425],\n",
       "        [ 0.08045087, -0.01119263, -0.08387438, ...,  0.0828877 ,\n",
       "         -0.04624857, -0.00491106]], dtype=float32),\n",
       " array([-0.29977894,  0.59931046,  0.03922305, -0.47246403,  0.14324649,\n",
       "         1.2657558 , -0.20916145,  0.7069487 , -1.3635131 , -0.369649  ],\n",
       "       dtype=float32)]"
      ]
     },
     "execution_count": 19,
     "metadata": {},
     "output_type": "execute_result"
    }
   ],
   "source": [
    "# 通过model.layers[1].get_weights()获得Dense层的参数估计结果\n",
    "model.layers[1].get_weights()"
   ]
  },
  {
   "cell_type": "code",
   "execution_count": 20,
   "metadata": {},
   "outputs": [
    {
     "data": {
      "text/plain": [
       "(784, 10)"
      ]
     },
     "execution_count": 20,
     "metadata": {},
     "output_type": "execute_result"
    }
   ],
   "source": [
    "# 2.利用.shape()查看第1个array的维度\n",
    "model.layers[1].get_weights()[0].shape"
   ]
  },
  {
   "cell_type": "code",
   "execution_count": 21,
   "metadata": {},
   "outputs": [
    {
     "data": {
      "text/plain": [
       "<Figure size 432x288 with 0 Axes>"
      ]
     },
     "metadata": {},
     "output_type": "display_data"
    },
    {
     "data": {
      "image/png": "[encoded data removed]",
      "text/plain": [
       "<Figure size 432x288 with 10 Axes>"
      ]
     },
     "metadata": {},
     "output_type": "display_data"
    }
   ],
   "source": [
    "# 3.参数可视化\n",
    "plt.figure()\n",
    "fig, ax = plt.subplots(2, 5)\n",
    "ax = ax.flatten()\n",
    "weights = model.layers[1].get_weights()[0]\n",
    "for i in range(10):\n",
    "    Im = weights[:, i].reshape(28, 28)\n",
    "    ax[i].imshow(Im, cmap=\"seismic\")\n",
    "    ax[i].set_title(\"{}\".format(i))\n",
    "    ax[i].set_xticks([])\n",
    "    ax[i].set_yticks([])\n",
    "plt.show()"
   ]
  },
  {
   "cell_type": "code",
   "execution_count": null,
   "metadata": {},
   "outputs": [],
   "source": []
  }
 ],
 "metadata": {
  "kernelspec": {
   "display_name": "Python 3",
   "language": "python",
   "name": "python3"
  },
  "language_info": {
   "codemirror_mode": {
    "name": "ipython",
    "version": 3
   },
   "file_extension": ".py",
   "mimetype": "text/x-python",
   "name": "python",
   "nbconvert_exporter": "python",
   "pygments_lexer": "ipython3",
   "version": "3.7.4"
  }
 },
 "nbformat": 4,
 "nbformat_minor": 2
}
